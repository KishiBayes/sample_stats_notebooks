{
 "cells": [
  {
   "cell_type": "code",
   "execution_count": 1,
   "id": "c77c4abe-4ef2-4278-a83a-c156b3386a57",
   "metadata": {},
   "outputs": [],
   "source": [
    "using Flux, Distributions, Zygote, ForwardDiff, Plots, StatsPlots, LinearAlgebra, Random"
   ]
  },
  {
   "cell_type": "code",
   "execution_count": 2,
   "id": "e0bc4d4b-329d-43ea-8093-fbafc3a3473b",
   "metadata": {},
   "outputs": [
    {
     "data": {
      "text/plain": [
       "EM (generic function with 2 methods)"
      ]
     },
     "execution_count": 2,
     "metadata": {},
     "output_type": "execute_result"
    }
   ],
   "source": [
    "mutable struct HMM\n",
    "    μ\n",
    "    σ\n",
    "    \n",
    "    P\n",
    "end\n",
    "Flux.@functor HMM (μ, σ)\n",
    "\n",
    "function HMM(states)\n",
    "    μ = collect(range(-1,1, length=states))\n",
    "    σ = zeros(states)\n",
    "    \n",
    "    P = softmax(Matrix(Diagonal(ones(states))),dims=2)\n",
    "    \n",
    "    return HMM(μ,σ,P)\n",
    "end\n",
    "\n",
    "\n",
    "function filter(m::HMM, y, p_t)\n",
    "    \n",
    "    μ = m.μ\n",
    "    σ = exp.(m.σ)\n",
    "    P = m.P\n",
    "    \n",
    "    y_t = y[1]\n",
    "    \n",
    "    dists_t = Normal.(μ,σ)\n",
    "    pdfs = pdf.(dists_t, y_t)\n",
    "    \n",
    "    sumdist = (p_t.*pdfs)\n",
    "    p_tt = sumdist./sum(sumdist)\n",
    "    \n",
    "    p_tp1 = P*p_tt\n",
    "    \n",
    "    if length(y)>1\n",
    "        dists_tp1, p_t, p_ttp1 = filter(m,y[2:end],p_tp1)\n",
    "        return vcat(dists_t, dists_tp1), hcat(p_t,p_tp1), hcat(p_tt, p_ttp1)\n",
    "    else\n",
    "        return dists_t, p_t, p_tt\n",
    "    end\n",
    "end\n",
    "\n",
    "function forward(m::HMM, y, α_tm1)\n",
    "    #α(q_0) = p(q_0)p(y_0|q_0)\n",
    "    \n",
    "    μ = m.μ\n",
    "    σ = exp.(m.σ)\n",
    "    P = m.P\n",
    "    \n",
    "    y_t = y[1]\n",
    "    \n",
    "    qsum = P*α_tm1\n",
    "    dists = Normal.(μ,σ)\n",
    "    pdfs = pdf.(dists,y_t)\n",
    " \n",
    "    α_t = pdfs.*qsum\n",
    "    \n",
    "    if length(y)>1\n",
    "        α_tp1 = forward(m,y[2:end],α_t)\n",
    "        return hcat(α_t, α_tp1)\n",
    "    else\n",
    "        return α_t\n",
    "    end\n",
    "end\n",
    "\n",
    "\n",
    "function backward(m::HMM, y, β_tp1)\n",
    "    #β_(q_{T-1}) = \\sum_{q_T}p(y_T|q_T)p(q_T|q_{T-1})\n",
    "    \n",
    "    μ = m.μ\n",
    "    σ = exp.(m.σ)\n",
    "    P = softmax(m.P, dims=2)\n",
    "    \n",
    "    y_t = y[end]\n",
    "    \n",
    "    dists = Normal.(μ,σ)\n",
    "    pdfs = pdf.(dists,y_t)\n",
    "    \n",
    "    β_t = sum(transpose(P).*β_tp1.*pdfs,dims=2)\n",
    "    \n",
    "    if length(y)>1\n",
    "        β_tm1 = backward(m, y[1:end-1], β_tp1)\n",
    "        return hcat(β_tm1, β_t)\n",
    "    else\n",
    "        return β_t\n",
    "    end\n",
    "end\n",
    "\n",
    "\n",
    "\n",
    "function likelihood(m::HMM,y,sps)\n",
    "    μ = m.μ\n",
    "    σ = exp.(m.σ)\n",
    "    \n",
    "    dists = Normal.(μ,σ)\n",
    "    \n",
    "    return mean(map(i->sum(sps[i].*logpdf.(dists,y[i])),1:length(y)))\n",
    "end\n",
    "\n",
    "\n",
    "function EM(m::HMM, y, p_0, n_iter = 50)\n",
    "    \n",
    "    for i in 1:n_iter\n",
    "        αβ = backward(m,y,p_0).*forward(m,y,p_0)\n",
    "        state_probs = αβ./sum(αβ,dims=1)\n",
    "        \n",
    "        sps = Flux.unstack(state_probs,dims=2)\n",
    "\n",
    "        ps, f = Flux.destructure(m)\n",
    "        \n",
    "        for _ in 1:50\n",
    "            grads = ForwardDiff.gradient(x -> -likelihood(f(x),y,sps), ps)\n",
    "            ps .-= 0.001.*grads\n",
    "        end\n",
    "        \n",
    "        newm = f(ps)\n",
    "        m.μ = newm.μ\n",
    "        m.σ = newm.σ\n",
    "        \n",
    "        Ps = Matrix(transpose(hcat([sum(state_probs[i:i, 1:end-1].*state_probs[:, 2:end],dims=2)[:] for i in 1:length(p_0)]...)))\n",
    "        Ps./=sum(Ps,dims=1)\n",
    "        \n",
    "        m.P = Ps\n",
    "        \n",
    "        if i%50==0\n",
    "            println(-likelihood(m,y,sps))\n",
    "        end\n",
    "    end\n",
    "end"
   ]
  },
  {
   "cell_type": "code",
   "execution_count": 3,
   "id": "548eb4c7-c06d-4923-8a43-b88c1e09d90e",
   "metadata": {},
   "outputs": [
    {
     "data": {
      "text/plain": [
       "([-1.0, 0.0, 1.0, 0.0, 0.0, 0.0], Restructure(HMM, ..., 6))"
      ]
     },
     "execution_count": 3,
     "metadata": {},
     "output_type": "execute_result"
    }
   ],
   "source": [
    "Random.seed!(321)\n",
    "y = vcat([vcat(0.5 .*randn(10).+3, randn(10), 0.5 .*randn(10).-3) for _ in 1:5]...)\n",
    "\n",
    "m = HMM(3)\n",
    "ps, f = Flux.destructure(m)"
   ]
  },
  {
   "cell_type": "code",
   "execution_count": null,
   "id": "a076f0ea-6894-474f-b07e-0f167e19883a",
   "metadata": {},
   "outputs": [],
   "source": [
    "αβ = backward(m,y,ones(3)./3).*forward(m,y,ones(3)./3)\n",
    "state_probs = αβ./sum(αβ,dims=1)\n",
    "\n",
    "p1 = plot(y, title = \"Before training\", label = \"Data\")\n",
    "plot!(twinx(), mapslices(x->argmax(x), state_probs,dims=1)[:], label = \"MAP State prediction\", c=\"Red\")"
   ]
  },
  {
   "cell_type": "code",
   "execution_count": null,
   "id": "e9b914d3-aec8-4c73-a279-6927aa07c36d",
   "metadata": {},
   "outputs": [],
   "source": [
    "EM(m,y,ones(3)./3,350)"
   ]
  },
  {
   "cell_type": "code",
   "execution_count": null,
   "id": "b7c2dfa9-9a2f-4b99-8cd6-452fcd9e5fb0",
   "metadata": {},
   "outputs": [],
   "source": [
    "αβ = backward(m,y,ones(3)./3).*forward(m,y,ones(3)./3)\n",
    "state_probs = αβ./sum(αβ,dims=1)\n",
    "\n",
    "p2 = plot(y, title = \"After training\", label = \"Data\")\n",
    "plot!(twinx(), mapslices(x->argmax(x), state_probs,dims=1)[:], label = \"MAP State prediction\", c=\"Red\")"
   ]
  },
  {
   "cell_type": "code",
   "execution_count": null,
   "id": "62d02220-8f16-4eff-a2a5-f493c65d03b8",
   "metadata": {},
   "outputs": [],
   "source": [
    "plot(p1,p2,size = (1000,500))"
   ]
  }
 ],
 "metadata": {
  "kernelspec": {
   "display_name": "Julia 1.8.1",
   "language": "julia",
   "name": "julia-1.8"
  },
  "language_info": {
   "file_extension": ".jl",
   "mimetype": "application/julia",
   "name": "julia",
   "version": "1.8.1"
  }
 },
 "nbformat": 4,
 "nbformat_minor": 5
}
